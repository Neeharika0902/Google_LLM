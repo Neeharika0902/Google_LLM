{
 "cells": [
  {
   "cell_type": "code",
   "execution_count": 3,
   "metadata": {},
   "outputs": [
    {
     "name": "stderr",
     "output_type": "stream",
     "text": [
      "/Users/spartan/Documents/Google_LLM/.venv/lib/python3.12/site-packages/tqdm/auto.py:21: TqdmWarning: IProgress not found. Please update jupyter and ipywidgets. See https://ipywidgets.readthedocs.io/en/stable/user_install.html\n",
      "  from .autonotebook import tqdm as notebook_tqdm\n"
     ]
    }
   ],
   "source": [
    "from dotenv import load_dotenv\n",
    "\n",
    "# it will load all the environments here\n",
    "load_dotenv()  \n",
    "\n",
    "# to create an quick aplication\n",
    "import streamlit as st \n",
    "\n",
    "import os\n",
    "import pathlib\n",
    "import textwrap\n",
    "from PIL import Image\n",
    "\n",
    "import google.generativeai as genai\n",
    "\n",
    "# calling Google API ey from environment\n",
    "os.getenv(\"GOOGLE_API_KEY\")\n",
    "genai.configure(api_key=os.getenv(\"GOOGLE_API_KEY\"))"
   ]
  },
  {
   "cell_type": "code",
   "execution_count": 4,
   "metadata": {},
   "outputs": [],
   "source": [
    "## Function to load OpenAI model and get respones\n",
    "\n",
    "# input : will tell LLM, how LLM have to behave as | Here LLM need to act as an invoice Extractor.\n",
    "# Image : The image which we will provide as input to extract information from\n",
    "# Propt : Like chat GPT, we will ask question to ChatGPT. That question will be input passed through this prompt\n",
    "def get_gemini_response(input,image,prompt):\n",
    "    model = genai.GenerativeModel('gemini-pro-vision')\n",
    "    response = model.generate_content([input,image[0],prompt]) # Gemini will take parameters as a list\n",
    "    return response.text # Output we will return here\n",
    "    \n",
    "\n",
    "# to convert image to bytes & wil give all image information in the bytes \n",
    "def input_image_setup(uploaded_file):\n",
    "    # Check if a file has been uploaded\n",
    "    if uploaded_file is not None:\n",
    "        # Read the file into bytes\n",
    "        bytes_data = uploaded_file.getvalue()\n",
    "\n",
    "        image_parts = [\n",
    "            {\n",
    "                \"mime_type\": uploaded_file.type,  # Get the mime type of the uploaded file\n",
    "                \"data\": bytes_data\n",
    "            }\n",
    "        ]\n",
    "        return image_parts\n",
    "    else:\n",
    "        raise FileNotFoundError(\"No file uploaded\")"
   ]
  },
  {
   "cell_type": "code",
   "execution_count": 5,
   "metadata": {},
   "outputs": [
    {
     "name": "stderr",
     "output_type": "stream",
     "text": [
      "2024-07-09 11:30:52.024 \n",
      "  \u001b[33m\u001b[1mWarning:\u001b[0m to view this Streamlit app on a browser, run it with the following\n",
      "  command:\n",
      "\n",
      "    streamlit run /Users/spartan/Documents/Google_LLM/.venv/lib/python3.12/site-packages/ipykernel_launcher.py [ARGUMENTS]\n",
      "2024-07-09 11:30:52.025 Session state does not function when running a script without `streamlit run`\n"
     ]
    }
   ],
   "source": [
    "\n",
    "##initialize our streamlit app\n",
    "\n",
    "st.set_page_config(page_title=\"Invoice Extractor using Gemini..\")\n",
    "\n",
    "st.header(\"Gemini Application\")\n",
    "input=st.text_input(\"Input Prompt: \",key=\"input\")\n",
    "uploaded_file = st.file_uploader(\"Choose an image...\", type=[\"jpg\", \"jpeg\", \"png\"])\n",
    "\n",
    "image=\"\"   \n",
    "if uploaded_file is not None:\n",
    "    image = Image.open(uploaded_file)\n",
    "    st.image(image, caption=\"Uploaded Image.\", use_column_width=True)\n",
    "\n",
    "\n",
    "submit=st.button(\"Tell me about the image\")\n",
    "\n",
    "# How we want to LLM should work\n",
    "input_prompt = \"\"\"\n",
    "               You are an expert in understanding invoices.\n",
    "               You will receive input images as invoices &\n",
    "               you will have to answer questions based on the input image\n",
    "               \"\"\""
   ]
  },
  {
   "cell_type": "code",
   "execution_count": 6,
   "metadata": {},
   "outputs": [],
   "source": [
    "## If ask button is clicked\n",
    "\n",
    "if submit:\n",
    "    image_data = input_image_setup(uploaded_file)\n",
    "    response=get_gemini_response(input_prompt,image_data,input)\n",
    "    st.subheader(\"The Response is : \")\n",
    "    st.write(response)"
   ]
  }
 ],
 "metadata": {
  "kernelspec": {
   "display_name": ".venv",
   "language": "python",
   "name": "python3"
  },
  "language_info": {
   "codemirror_mode": {
    "name": "ipython",
    "version": 3
   },
   "file_extension": ".py",
   "mimetype": "text/x-python",
   "name": "python",
   "nbconvert_exporter": "python",
   "pygments_lexer": "ipython3",
   "version": "3.12.2"
  }
 },
 "nbformat": 4,
 "nbformat_minor": 2
}
